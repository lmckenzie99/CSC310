{
  "cells": [
    {
      "cell_type": "markdown",
      "metadata": {
        "id": "view-in-github",
        "colab_type": "text"
      },
      "source": [
        "<a href=\"https://colab.research.google.com/github/IndraniMandal/CSC310-S20/blob/master/02_python_programming.ipynb\" target=\"_parent\"><img src=\"https://colab.research.google.com/assets/colab-badge.svg\" alt=\"Open In Colab\"/></a>"
      ]
    },
    {
      "cell_type": "markdown",
      "metadata": {
        "id": "qXdPfkRAd8Zv"
      },
      "source": [
        "# Python for Data Science"
      ]
    },
    {
      "cell_type": "markdown",
      "metadata": {
        "id": "Kg_-U4o-d8Zx"
      },
      "source": [
        "* Anaconda3 ([www.anaconda.com](https://www.anaconda.com))\n",
        "    * Python 3.x\n",
        "    * Includes ALL major Python data science packages\n",
        "        * Sci-kit learn\n",
        "        * Pandas\n",
        "        * PlotPy\n",
        "    * Jupyter Notebooks can be run from here\n",
        "\n",
        "*   Google Colab -cloud based environment\n",
        "\n",
        "\n",
        "\n",
        "\n",
        "\n",
        "\n",
        "\n"
      ]
    },
    {
      "cell_type": "markdown",
      "metadata": {
        "id": "6L98wcLAd8Zy"
      },
      "source": [
        "## A Whirlwind Tour of Python\n",
        "\n",
        "If you are not familiar with Python or you feel you are rusty then I recommend looking Jake VanderPlas’ intro to Python:\n",
        "\n",
        "[A Whirlwind Tour of Python](https://jakevdp.github.io/WhirlwindTourOfPython/)"
      ]
    },
    {
      "cell_type": "code",
      "source": [
        "farm_list=['cow','sheep', 'goat', 'horse', 'pig']\n",
        "for animal in farm_list:\n",
        "  print(animal)"
      ],
      "metadata": {
        "colab": {
          "base_uri": "https://localhost:8080/"
        },
        "id": "nGZNUdIH7ELR",
        "outputId": "b1ea84ab-3189-4116-8860-b48d2efca456"
      },
      "execution_count": null,
      "outputs": [
        {
          "output_type": "stream",
          "name": "stdout",
          "text": [
            "cow\n",
            "sheep\n",
            "goat\n",
            "horse\n",
            "pig\n"
          ]
        }
      ]
    },
    {
      "cell_type": "code",
      "execution_count": null,
      "metadata": {
        "colab": {
          "base_uri": "https://localhost:8080/"
        },
        "id": "fcyI3UMvU2Yz",
        "outputId": "596bcfca-7ece-4194-b0e8-3c019e9bfbe0"
      },
      "outputs": [
        {
          "output_type": "stream",
          "name": "stdout",
          "text": [
            "the answer is  4.4\n"
          ]
        }
      ],
      "source": [
        "ans=3+1.4\n",
        "print('the answer is ', ans)"
      ]
    },
    {
      "cell_type": "code",
      "source": [
        "type(ans)"
      ],
      "metadata": {
        "colab": {
          "base_uri": "https://localhost:8080/"
        },
        "id": "hLwfkSDinQaD",
        "outputId": "9a922509-5e89-4fce-a916-38da11b97850"
      },
      "execution_count": null,
      "outputs": [
        {
          "output_type": "execute_result",
          "data": {
            "text/plain": [
              "float"
            ]
          },
          "metadata": {},
          "execution_count": 12
        }
      ]
    },
    {
      "cell_type": "markdown",
      "metadata": {
        "id": "52EJfA2id8Z0"
      },
      "source": [
        "## Python - simple commands!\n",
        "\n",
        "Python is an interactive interpreter started from the shell.\n"
      ]
    },
    {
      "cell_type": "code",
      "source": [
        "7/2"
      ],
      "metadata": {
        "colab": {
          "base_uri": "https://localhost:8080/"
        },
        "id": "K_DCQ8Ocnytr",
        "outputId": "78c209c2-3fd6-4588-dfbd-39343db7a8eb"
      },
      "execution_count": null,
      "outputs": [
        {
          "output_type": "execute_result",
          "data": {
            "text/plain": [
              "3.5"
            ]
          },
          "metadata": {},
          "execution_count": 16
        }
      ]
    },
    {
      "cell_type": "code",
      "execution_count": null,
      "metadata": {
        "colab": {
          "base_uri": "https://localhost:8080/"
        },
        "id": "aSDrhm0rx7YV",
        "outputId": "827e7479-73a7-4f82-df47-51691c2bf707"
      },
      "outputs": [
        {
          "output_type": "stream",
          "name": "stdout",
          "text": [
            "hello world!\n"
          ]
        }
      ],
      "source": [
        "print(\"hello world!\")"
      ]
    },
    {
      "cell_type": "code",
      "execution_count": null,
      "metadata": {
        "colab": {
          "base_uri": "https://localhost:8080/"
        },
        "id": "bei7qTI39ZYc",
        "outputId": "6c92162a-2d8e-4c3f-c43a-9ca3ec3073a4"
      },
      "outputs": [
        {
          "output_type": "stream",
          "name": "stdout",
          "text": [
            "hi\n"
          ]
        }
      ],
      "source": [
        "print(\"hi\")"
      ]
    },
    {
      "cell_type": "code",
      "execution_count": null,
      "metadata": {
        "colab": {
          "base_uri": "https://localhost:8080/"
        },
        "id": "oNpu09I4xwfT",
        "outputId": "ea732df5-e96e-4640-aeb5-fdf3e76997f0"
      },
      "outputs": [
        {
          "output_type": "execute_result",
          "data": {
            "text/plain": [
              "13.5"
            ]
          },
          "metadata": {},
          "execution_count": 5
        }
      ],
      "source": [
        "3 + 10.5"
      ]
    },
    {
      "cell_type": "markdown",
      "metadata": {
        "id": "PJKcA_fVA7Ob"
      },
      "source": [
        "But we are going to do this in Jupyter Note distribution of Google Colab!"
      ]
    },
    {
      "cell_type": "markdown",
      "metadata": {
        "id": "0wpcgn6Od8Z2"
      },
      "source": [
        "## Loading Files"
      ]
    },
    {
      "cell_type": "markdown",
      "metadata": {
        "id": "rL9M60UEd8Z4"
      },
      "source": [
        "Assume that we have the following program stored in a file called `helloworld.py` in the folder `assets`:\n",
        "```Python\n",
        "\"\"\"                                                                                                               \n",
        "helloworld.py\n",
        "This is the classic program every programmer writes when he or she learns\n",
        "a new programming language.\n",
        "\"\"\"\n",
        "\n",
        "def hello():\n",
        "    \"Just print 'hello world!' and that's it\"\n",
        "    print(\"hello world!\") # print inserts a newline char    \n",
        "```"
      ]
    },
    {
      "cell_type": "code",
      "execution_count": null,
      "metadata": {
        "id": "F1Q6WpFbd8Z6"
      },
      "outputs": [],
      "source": [
        "import helloworld"
      ]
    },
    {
      "cell_type": "markdown",
      "metadata": {
        "id": "BS5ltY0Bd8aF"
      },
      "source": [
        "### Calling Functions in Modules\n",
        "\n",
        "Functions belong to modules - if you want to execute a function in a module you have to provide the module name as a qualifier (and the folder the module lives in)."
      ]
    },
    {
      "cell_type": "code",
      "execution_count": null,
      "metadata": {
        "colab": {
          "base_uri": "https://localhost:8080/"
        },
        "id": "KIVkPTRvd8aG",
        "outputId": "8a0e35a6-9dae-436b-a214-4bb0be67426c"
      },
      "outputs": [
        {
          "output_type": "stream",
          "name": "stdout",
          "text": [
            "hello world!\n"
          ]
        }
      ],
      "source": [
        "helloworld.hello()"
      ]
    },
    {
      "cell_type": "markdown",
      "metadata": {
        "id": "Dl48GWmod8aR"
      },
      "source": [
        "One of the most helpful features of Python is the `help` function callable on any Python object."
      ]
    },
    {
      "cell_type": "code",
      "execution_count": null,
      "metadata": {
        "colab": {
          "base_uri": "https://localhost:8080/"
        },
        "id": "dszlli7Hd8aT",
        "outputId": "311b64f3-bcf1-4796-b30c-83cb441596a5"
      },
      "outputs": [
        {
          "output_type": "stream",
          "name": "stdout",
          "text": [
            "Help on module helloworld:\n",
            "\n",
            "NAME\n",
            "    helloworld\n",
            "\n",
            "DESCRIPTION\n",
            "    helloworld.py\n",
            "    This is the classic program every programmer writes when he or she learns\n",
            "    a new programming language.\n",
            "\n",
            "FUNCTIONS\n",
            "    hello()\n",
            "        Just print 'hello world!' and that's it\n",
            "\n",
            "FILE\n",
            "    /content/drive/My Drive/CSC310/notes/assets/helloworld.py\n",
            "\n",
            "\n"
          ]
        }
      ],
      "source": [
        "help(helloworld)"
      ]
    },
    {
      "cell_type": "markdown",
      "metadata": {
        "id": "WI3OXTeYd8aZ"
      },
      "source": [
        "**Docstrings shine!!!** - automatically generated documentation of your module\n"
      ]
    },
    {
      "cell_type": "markdown",
      "metadata": {
        "id": "M0AAUw8Ed8aa"
      },
      "source": [
        "### Docstring vs Comment\n",
        "\n",
        "* A docstring should document what your code does\n",
        "  * Important for the user of your code\n",
        "  * Docstrings are exported by Python into the help system\n",
        "* A comment should comment on how your code does it\n",
        "  * Important for your peer programmers modifying/understanding your code\n",
        "  * Comments stay internal to the code\n"
      ]
    },
    {
      "cell_type": "markdown",
      "metadata": {
        "id": "MYzlr40rd8ab"
      },
      "source": [
        "## Python - `import *` considered dangerous!"
      ]
    },
    {
      "cell_type": "markdown",
      "metadata": {
        "id": "kX8lcAiEd8ac"
      },
      "source": [
        "`from <module> import *` -- Any function or variable in <module> is imported into your local scope WITHOUT a module qualifier!\n"
      ]
    },
    {
      "cell_type": "code",
      "execution_count": null,
      "metadata": {
        "id": "n-JUkeu0d8ad"
      },
      "outputs": [],
      "source": [
        "from helloworld import *"
      ]
    },
    {
      "cell_type": "code",
      "execution_count": null,
      "metadata": {
        "colab": {
          "base_uri": "https://localhost:8080/"
        },
        "id": "9SerOvtZd8ah",
        "outputId": "563ee542-697c-436b-9ae5-d8a27f8081b4"
      },
      "outputs": [
        {
          "output_type": "stream",
          "name": "stdout",
          "text": [
            "hello world!\n"
          ]
        }
      ],
      "source": [
        "hello()"
      ]
    },
    {
      "cell_type": "markdown",
      "metadata": {
        "id": "an_yPSB0d8al"
      },
      "source": [
        "**Very Dangerous!** - it can lead to silent name clashes with strange effects on your code!\n"
      ]
    },
    {
      "cell_type": "markdown",
      "metadata": {
        "id": "rJN2sHp5d8am"
      },
      "source": [
        "Consider we have another file `helloagain.py` that also defines a `hello` function:\n",
        "\n",
        "```Python\n",
        "\"\"\"\n",
        "helloagain.py\n",
        "\n",
        "Here we demonstrate that Python silently clobbers names clashes if you are not careful.\n",
        "\"\"\"\n",
        "\n",
        "def hello():\n",
        "    \"Print out 'hello again!' and that's it\"\n",
        "    print(\"hello again!\")\n",
        "```"
      ]
    },
    {
      "cell_type": "code",
      "execution_count": null,
      "metadata": {
        "id": "zP1-dgJJd8am"
      },
      "outputs": [],
      "source": [
        "from helloagain import * # Silently overwrote the original hello() - the original is no longer available!!"
      ]
    },
    {
      "cell_type": "code",
      "execution_count": null,
      "metadata": {
        "colab": {
          "base_uri": "https://localhost:8080/"
        },
        "id": "8-FhFDQUd8aq",
        "outputId": "5bc41f62-d4ff-4797-d4ec-502b5b7a364b"
      },
      "outputs": [
        {
          "output_type": "stream",
          "name": "stdout",
          "text": [
            "hello again!\n"
          ]
        }
      ],
      "source": [
        "hello()"
      ]
    },
    {
      "cell_type": "code",
      "source": [
        "helloworld.hello()"
      ],
      "metadata": {
        "colab": {
          "base_uri": "https://localhost:8080/"
        },
        "id": "1HSR80EvsK5l",
        "outputId": "f0caa1b3-a7e1-41a7-e6e2-ce69f910b5d1"
      },
      "execution_count": null,
      "outputs": [
        {
          "output_type": "stream",
          "name": "stdout",
          "text": [
            "hello world!\n"
          ]
        }
      ]
    },
    {
      "cell_type": "markdown",
      "metadata": {
        "id": "oaTnfHOQd8au"
      },
      "source": [
        "**Never use `from <module> import *`  - you have no control over your name space!** Always use fully qualified function names for import.\n"
      ]
    },
    {
      "cell_type": "code",
      "source": [
        "import pandas as pd\n",
        "df = pd.read_csv"
      ],
      "metadata": {
        "id": "GRa_8UEKsts_"
      },
      "execution_count": null,
      "outputs": []
    },
    {
      "cell_type": "code",
      "execution_count": null,
      "metadata": {
        "id": "7ACKQZlYd8au"
      },
      "outputs": [],
      "source": [
        "from helloworld import hello\n",
        "from helloagain import hello as hi"
      ]
    },
    {
      "cell_type": "code",
      "execution_count": null,
      "metadata": {
        "colab": {
          "base_uri": "https://localhost:8080/"
        },
        "id": "sqNeGtIhd8az",
        "outputId": "f672ae1b-55ed-4ca0-aefd-2cb6d7f08a09"
      },
      "outputs": [
        {
          "output_type": "stream",
          "name": "stdout",
          "text": [
            "hello world!\n"
          ]
        }
      ],
      "source": [
        "hello()"
      ]
    },
    {
      "cell_type": "code",
      "execution_count": null,
      "metadata": {
        "colab": {
          "base_uri": "https://localhost:8080/"
        },
        "id": "D94G1wcPd8a3",
        "outputId": "eb7ba118-c574-47a3-d3bf-441db721c8fe"
      },
      "outputs": [
        {
          "output_type": "stream",
          "name": "stdout",
          "text": [
            "hello again!\n"
          ]
        }
      ],
      "source": [
        "hi()"
      ]
    },
    {
      "cell_type": "markdown",
      "metadata": {
        "id": "FI9PXIqad8a5"
      },
      "source": [
        "## Python - basic programming structures!\n",
        "\n",
        "### The Loop"
      ]
    },
    {
      "cell_type": "code",
      "execution_count": null,
      "metadata": {
        "colab": {
          "base_uri": "https://localhost:8080/"
        },
        "id": "GA5ohajad8a6",
        "outputId": "dde9685c-8859-4b8b-a848-23148cca2514"
      },
      "outputs": [
        {
          "output_type": "stream",
          "name": "stdout",
          "text": [
            "0\n",
            "1\n",
            "2\n",
            "3\n",
            "4\n"
          ]
        }
      ],
      "source": [
        "for i in range(5): # a for loop with range object\n",
        "    print(i)"
      ]
    },
    {
      "cell_type": "markdown",
      "metadata": {
        "id": "aJ3nAMGad8a8"
      },
      "source": [
        "The `range` function:\n",
        "```\n",
        "range(stop) -> range object\n",
        "range(start, stop[, step]) -> range object\n",
        "  \n",
        "Returns an object that produces a sequence of integers from start (inclusive) to stop (exclusive) by step.  \n",
        "range(i, j) produces i, i+1, i+2, ..., j-1.\n",
        "start defaults to 0, and stop is omitted!  range(4) produces 0, 1, 2, 3.\n",
        "These are exactly the valid indices for a list of 4 elements.\n",
        "When step is given, it specifies the increment (or decrement).\n",
        "```"
      ]
    },
    {
      "cell_type": "code",
      "execution_count": null,
      "metadata": {
        "id": "MKlKxNCRd8a9",
        "colab": {
          "base_uri": "https://localhost:8080/"
        },
        "outputId": "ab4c9178-f9ca-4fed-e00e-ade09fc3e3f3"
      },
      "outputs": [
        {
          "output_type": "execute_result",
          "data": {
            "text/plain": [
              "[0, 1, 2, 3, 4]"
            ]
          },
          "metadata": {},
          "execution_count": 21
        }
      ],
      "source": [
        "list(range(5))"
      ]
    },
    {
      "cell_type": "code",
      "execution_count": null,
      "metadata": {
        "colab": {
          "base_uri": "https://localhost:8080/"
        },
        "id": "nFrDped6d8a_",
        "outputId": "06d744b9-8c71-47fb-f53a-388761a4ede6"
      },
      "outputs": [
        {
          "output_type": "execute_result",
          "data": {
            "text/plain": [
              "[5, 4, 3, 2, 1]"
            ]
          },
          "metadata": {},
          "execution_count": 22
        }
      ],
      "source": [
        "list(range(5,0,-1))"
      ]
    },
    {
      "cell_type": "code",
      "execution_count": null,
      "metadata": {
        "colab": {
          "base_uri": "https://localhost:8080/"
        },
        "id": "OiF-qRX3d8bB",
        "outputId": "0987588a-78ef-4711-9b01-8a50dd77192f"
      },
      "outputs": [
        {
          "output_type": "stream",
          "name": "stdout",
          "text": [
            "1\n",
            "2\n",
            "3\n"
          ]
        }
      ],
      "source": [
        "lst = [1,2,3] # for loop over lists\n",
        "for e in lst:\n",
        "    print(e)"
      ]
    },
    {
      "cell_type": "code",
      "execution_count": null,
      "metadata": {
        "colab": {
          "base_uri": "https://localhost:8080/"
        },
        "id": "_mxZvOsCd8bE",
        "outputId": "6a45ef06-ecfb-4edf-8666-ed854f99ba40"
      },
      "outputs": [
        {
          "output_type": "stream",
          "name": "stdout",
          "text": [
            "chicken\n",
            "turkey\n",
            "duck\n"
          ]
        }
      ],
      "source": [
        "lst = ['chicken','turkey','duck']\n",
        "for e in lst:\n",
        "    print(e)"
      ]
    },
    {
      "cell_type": "markdown",
      "metadata": {
        "id": "Rh70jn-9d8bG"
      },
      "source": [
        "### The if-then-else statement"
      ]
    },
    {
      "cell_type": "code",
      "execution_count": null,
      "metadata": {
        "colab": {
          "base_uri": "https://localhost:8080/"
        },
        "id": "ih4SaOnmd8bG",
        "outputId": "a2a79ca7-6dd3-4e74-901a-8644508df927"
      },
      "outputs": [
        {
          "output_type": "stream",
          "name": "stdout",
          "text": [
            "type a value: 2\n",
            "x equals 2\n"
          ]
        }
      ],
      "source": [
        "x = input(\"type a value: \")\n",
        "x = int(x)\n",
        "if x==2:\n",
        "    print('x equals 2')\n",
        "else:\n",
        "    print('x is something else')\n"
      ]
    },
    {
      "cell_type": "markdown",
      "metadata": {
        "id": "A_AsVo46d8bI"
      },
      "source": [
        "### The function definition statement"
      ]
    },
    {
      "cell_type": "markdown",
      "metadata": {
        "id": "IyRQBSl6d8bJ"
      },
      "source": [
        "We saw some of that already above. Here is another function definition with parameters."
      ]
    },
    {
      "cell_type": "code",
      "execution_count": null,
      "metadata": {
        "id": "Bva_VfJ4d8bJ"
      },
      "outputs": [],
      "source": [
        "def inc(x):\n",
        "    return x+1\n"
      ]
    },
    {
      "cell_type": "code",
      "execution_count": null,
      "metadata": {
        "colab": {
          "base_uri": "https://localhost:8080/"
        },
        "id": "0ZEGxLqDd8bL",
        "outputId": "8f5598e3-4546-476b-81bf-5bdc17d2313c"
      },
      "outputs": [
        {
          "output_type": "execute_result",
          "data": {
            "text/plain": [
              "4"
            ]
          },
          "metadata": {},
          "execution_count": 27
        }
      ],
      "source": [
        "inc(3)"
      ]
    },
    {
      "cell_type": "markdown",
      "metadata": {
        "id": "CCFEtia_d8bN"
      },
      "source": [
        "A slightly more complicated example using a recursive function."
      ]
    },
    {
      "cell_type": "code",
      "execution_count": null,
      "metadata": {
        "id": "_GYhf6IEd8bO"
      },
      "outputs": [],
      "source": [
        "\"\"\"\n",
        "fact.py\n",
        "\n",
        "An example of a recursive function to\n",
        " find the factorial of a number\n",
        "\"\"\"\n",
        "\n",
        "def factorial(x):\n",
        "    \"\"\"\n",
        "    This is a recursive function to find the factorial of an\n",
        "     integer x where x >= 0.  The function is not defined\n",
        "     for x < 0.\n",
        "    \"\"\"\n",
        "    if x == 0:\n",
        "        return 1\n",
        "    else:\n",
        "        return x * factorial(x-1)"
      ]
    },
    {
      "cell_type": "code",
      "execution_count": null,
      "metadata": {
        "colab": {
          "base_uri": "https://localhost:8080/"
        },
        "id": "WGvKb1H1d8bQ",
        "outputId": "4d45b02f-f72e-4e89-c13c-cae27eca7ecf"
      },
      "outputs": [
        {
          "output_type": "execute_result",
          "data": {
            "text/plain": [
              "6"
            ]
          },
          "metadata": {},
          "execution_count": 29
        }
      ],
      "source": [
        "factorial(3)"
      ]
    },
    {
      "cell_type": "markdown",
      "metadata": {
        "id": "iC2TkmuLd8bV"
      },
      "source": [
        "## Python Lists\n",
        "\n",
        "In Python lists are a cornerstone of programming.  Consequently lists have a lot of built-in functionality."
      ]
    },
    {
      "cell_type": "code",
      "execution_count": null,
      "metadata": {
        "colab": {
          "base_uri": "https://localhost:8080/"
        },
        "id": "KcnJeMKZd8bV",
        "outputId": "0a92eae0-4473-467b-be16-69c8dcbc22ae"
      },
      "outputs": [
        {
          "output_type": "execute_result",
          "data": {
            "text/plain": [
              "[1, 2, 3]"
            ]
          },
          "metadata": {},
          "execution_count": 28
        }
      ],
      "source": [
        "lst = [1,2,3]\n",
        "lst"
      ]
    },
    {
      "cell_type": "code",
      "source": [
        "len(lst)"
      ],
      "metadata": {
        "colab": {
          "base_uri": "https://localhost:8080/"
        },
        "id": "88O5pAepuy16",
        "outputId": "f67d7461-2adc-440d-fa8d-050b20b03bb1"
      },
      "execution_count": null,
      "outputs": [
        {
          "output_type": "execute_result",
          "data": {
            "text/plain": [
              "3"
            ]
          },
          "metadata": {},
          "execution_count": 29
        }
      ]
    },
    {
      "cell_type": "code",
      "execution_count": null,
      "metadata": {
        "colab": {
          "base_uri": "https://localhost:8080/"
        },
        "id": "8YVeionyd8bX",
        "outputId": "9846b9fd-fece-4bdc-9011-e4fc44235876"
      },
      "outputs": [
        {
          "output_type": "execute_result",
          "data": {
            "text/plain": [
              "[1, 2, 3, 4]"
            ]
          },
          "metadata": {},
          "execution_count": 30
        }
      ],
      "source": [
        "lst.append(4)\n",
        "lst"
      ]
    },
    {
      "cell_type": "code",
      "execution_count": null,
      "metadata": {
        "colab": {
          "base_uri": "https://localhost:8080/"
        },
        "id": "qq6Wsddpd8ba",
        "outputId": "a52f5461-68f0-4ef5-86be-7a402da552f8"
      },
      "outputs": [
        {
          "output_type": "execute_result",
          "data": {
            "text/plain": [
              "[4, 3, 2, 1]"
            ]
          },
          "metadata": {},
          "execution_count": 31
        }
      ],
      "source": [
        "lst.reverse()\n",
        "lst"
      ]
    },
    {
      "cell_type": "code",
      "execution_count": null,
      "metadata": {
        "colab": {
          "base_uri": "https://localhost:8080/"
        },
        "id": "PEjmbnvMd8bc",
        "outputId": "00afec3e-1d17-40d1-9d6a-20e5ff99f294"
      },
      "outputs": [
        {
          "output_type": "execute_result",
          "data": {
            "text/plain": [
              "3"
            ]
          },
          "metadata": {},
          "execution_count": 33
        }
      ],
      "source": [
        "lst[1]"
      ]
    },
    {
      "cell_type": "code",
      "execution_count": null,
      "metadata": {
        "colab": {
          "base_uri": "https://localhost:8080/"
        },
        "id": "9-iaOQrbd8be",
        "outputId": "aa89ef1a-cf5f-4718-db8a-443c05ed9597"
      },
      "outputs": [
        {
          "output_type": "execute_result",
          "data": {
            "text/plain": [
              "[]"
            ]
          },
          "metadata": {},
          "execution_count": 34
        }
      ],
      "source": [
        "lst = []\n",
        "lst"
      ]
    },
    {
      "cell_type": "code",
      "execution_count": null,
      "metadata": {
        "colab": {
          "base_uri": "https://localhost:8080/"
        },
        "id": "Xy9YHBKbd8bg",
        "outputId": "ecbf75e4-3b86-4a0e-9705-39b700da0e75"
      },
      "outputs": [
        {
          "output_type": "execute_result",
          "data": {
            "text/plain": [
              "0"
            ]
          },
          "metadata": {},
          "execution_count": 35
        }
      ],
      "source": [
        "len(lst)"
      ]
    },
    {
      "cell_type": "markdown",
      "metadata": {
        "id": "jOtGmkQYd8bj"
      },
      "source": [
        "Things you can do with lists: <br>\n",
        " append(...)<br>\n",
        " clear(...)<br>\n",
        " copy(...)<br>\n",
        " count(...)<br>\n",
        " extend(...)<br>\n",
        " index(...)<br>\n",
        " insert(...)<br>\n",
        " pop(...)<br>\n",
        " remove(...)<br>\n",
        " reverse(...)<br>\n",
        " sort(...)<br>\n",
        "See `help([ ])`"
      ]
    },
    {
      "cell_type": "markdown",
      "metadata": {
        "id": "M6w04d94d8bj"
      },
      "source": [
        "### List Comprehensions\n",
        "\n",
        "Comprehensions are a short hand notation for constructing lists."
      ]
    },
    {
      "cell_type": "code",
      "execution_count": null,
      "metadata": {
        "colab": {
          "base_uri": "https://localhost:8080/"
        },
        "id": "msYOroxyd8bj",
        "outputId": "018a01d9-aedf-463f-d471-70dee67dceb3"
      },
      "outputs": [
        {
          "output_type": "execute_result",
          "data": {
            "text/plain": [
              "[0, 1, 4, 9, 16, 25, 36, 49, 64, 81]"
            ]
          },
          "metadata": {},
          "execution_count": 9
        }
      ],
      "source": [
        "S= [x**2 for x in range(10)]\n",
        "S"
      ]
    },
    {
      "cell_type": "markdown",
      "metadata": {
        "id": "NFIiEtdCd8bl"
      },
      "source": [
        "Another more complicated example."
      ]
    },
    {
      "cell_type": "code",
      "execution_count": null,
      "metadata": {
        "colab": {
          "base_uri": "https://localhost:8080/"
        },
        "id": "K1fRplGCd8bm",
        "outputId": "4b58b1e5-5c0b-4412-e67e-55051a4712ef"
      },
      "outputs": [
        {
          "output_type": "execute_result",
          "data": {
            "text/plain": [
              "['The', 'quick', 'brown', 'fox', 'jumps', 'over', 'the', 'lazy', 'dog']"
            ]
          },
          "metadata": {},
          "execution_count": 37
        }
      ],
      "source": [
        "words = 'The quick brown fox jumps over the lazy dog'.split()\n",
        "words"
      ]
    },
    {
      "cell_type": "code",
      "execution_count": null,
      "metadata": {
        "colab": {
          "base_uri": "https://localhost:8080/"
        },
        "id": "s6831i8Sd8bn",
        "outputId": "e006bbb9-0209-4193-d770-738cfe879497"
      },
      "outputs": [
        {
          "output_type": "execute_result",
          "data": {
            "text/plain": [
              "[['THE', 'the', 3],\n",
              " ['QUICK', 'quick', 5],\n",
              " ['BROWN', 'brown', 5],\n",
              " ['FOX', 'fox', 3],\n",
              " ['JUMPS', 'jumps', 5],\n",
              " ['OVER', 'over', 4],\n",
              " ['THE', 'the', 3],\n",
              " ['LAZY', 'lazy', 4],\n",
              " ['DOG', 'dog', 3]]"
            ]
          },
          "metadata": {},
          "execution_count": 38
        }
      ],
      "source": [
        "stuff = [[w.upper(), w.lower(), len(w)] for w in words]\n",
        "stuff"
      ]
    },
    {
      "cell_type": "markdown",
      "metadata": {
        "id": "5FgMS6uvd8bq"
      },
      "source": [
        "Note: strings are objects with\n",
        "member functions!\n",
        "\n",
        "Note: we are constructing a list\n",
        "of lists!\n"
      ]
    },
    {
      "cell_type": "markdown",
      "metadata": {
        "id": "oraAW3dgd8bq"
      },
      "source": [
        "## Data Structures\n",
        "\n",
        "Python has a number of data structures beyond lists that make programming much easier:\n",
        "* Tuples\n",
        "* Sets\n",
        "* Dictionaries\n"
      ]
    },
    {
      "cell_type": "markdown",
      "metadata": {
        "id": "y67b7fgQd8bq"
      },
      "source": [
        "### Tuples\n",
        "\n",
        "* A tuple consists of a number of values separated by commas\n",
        "* Though tuples may seem similar to lists, they are often used in different situations and for different purposes.\n",
        "* Tuples are *immutable*, and usually contain a heterogeneous sequence of elements that are accessed via *unpacking* or *indexing*.\n",
        "* Lists are *mutable*, and their elements are usually homogeneous and are accessed by *iterating* over the list.\n"
      ]
    },
    {
      "cell_type": "code",
      "execution_count": null,
      "metadata": {
        "id": "-AgdsFWWd8br",
        "colab": {
          "base_uri": "https://localhost:8080/"
        },
        "outputId": "c53d1a61-3294-49ce-d8bc-b10cdd1b52ab"
      },
      "outputs": [
        {
          "output_type": "execute_result",
          "data": {
            "text/plain": [
              "(12345, 54321, 'hello!')"
            ]
          },
          "metadata": {},
          "execution_count": 39
        }
      ],
      "source": [
        "t = (12345, 54321, 'hello!')\n",
        "t"
      ]
    },
    {
      "cell_type": "code",
      "execution_count": null,
      "metadata": {
        "id": "h_JIt8odd8bt",
        "colab": {
          "base_uri": "https://localhost:8080/"
        },
        "outputId": "7349a5df-ff95-4d3e-de86-4669666f3ea3"
      },
      "outputs": [
        {
          "output_type": "execute_result",
          "data": {
            "text/plain": [
              "12345"
            ]
          },
          "metadata": {},
          "execution_count": 40
        }
      ],
      "source": [
        "t[0]"
      ]
    },
    {
      "cell_type": "code",
      "execution_count": null,
      "metadata": {
        "id": "-1qvPvMZd8bv",
        "colab": {
          "base_uri": "https://localhost:8080/"
        },
        "outputId": "cba22993-f0d0-411f-d4ed-7ee53d0c833c"
      },
      "outputs": [
        {
          "output_type": "execute_result",
          "data": {
            "text/plain": [
              "12345"
            ]
          },
          "metadata": {},
          "execution_count": 41
        }
      ],
      "source": [
        "(x, y, z) = t     # pattern matching!\n",
        "x"
      ]
    },
    {
      "cell_type": "code",
      "execution_count": null,
      "metadata": {
        "id": "YqrhZlqNd8bx",
        "colab": {
          "base_uri": "https://localhost:8080/"
        },
        "outputId": "2176cdf0-c0fd-464f-ea93-aef5584f6639"
      },
      "outputs": [
        {
          "output_type": "execute_result",
          "data": {
            "text/plain": [
              "0"
            ]
          },
          "metadata": {},
          "execution_count": 42
        }
      ],
      "source": [
        "empty = ()\n",
        "len(empty)"
      ]
    },
    {
      "cell_type": "code",
      "execution_count": null,
      "metadata": {
        "id": "_xUBENdxd8by",
        "colab": {
          "base_uri": "https://localhost:8080/"
        },
        "outputId": "bbc83954-0d7d-4305-9936-cda6bd017703"
      },
      "outputs": [
        {
          "output_type": "execute_result",
          "data": {
            "text/plain": [
              "1"
            ]
          },
          "metadata": {},
          "execution_count": 43
        }
      ],
      "source": [
        "singleton = 'hello',    # <-- note trailing comma\n",
        "len(singleton)"
      ]
    },
    {
      "cell_type": "code",
      "execution_count": null,
      "metadata": {
        "id": "8a2kWNidd8b1",
        "colab": {
          "base_uri": "https://localhost:8080/"
        },
        "outputId": "a0620f39-520a-4a8b-9a23-89cfc595da28"
      },
      "outputs": [
        {
          "output_type": "execute_result",
          "data": {
            "text/plain": [
              "('hello',)"
            ]
          },
          "metadata": {},
          "execution_count": 44
        }
      ],
      "source": [
        "singleton"
      ]
    },
    {
      "cell_type": "markdown",
      "metadata": {
        "id": "BM8Igs7Sd8b4"
      },
      "source": [
        "### Sets\n",
        "\n",
        "A set is an unordered collection with no duplicate elements."
      ]
    },
    {
      "cell_type": "code",
      "execution_count": null,
      "metadata": {
        "id": "SDV0nepjd8b4",
        "colab": {
          "base_uri": "https://localhost:8080/"
        },
        "outputId": "b63ecffb-1d61-4a33-c8c1-5d2470389337"
      },
      "outputs": [
        {
          "output_type": "execute_result",
          "data": {
            "text/plain": [
              "{'apple', 'banana', 'orange', 'pear'}"
            ]
          },
          "metadata": {},
          "execution_count": 45
        }
      ],
      "source": [
        "basket = {'apple', 'orange', 'apple', 'pear', 'orange', 'banana'} # apple and orange have duplicate entries\n",
        "basket # show that duplicates have been removed"
      ]
    },
    {
      "cell_type": "code",
      "execution_count": null,
      "metadata": {
        "id": "h8BOf40Ed8b7",
        "colab": {
          "base_uri": "https://localhost:8080/"
        },
        "outputId": "7bb26ce4-8d26-47cb-ef14-9509c0ac6d80"
      },
      "outputs": [
        {
          "output_type": "execute_result",
          "data": {
            "text/plain": [
              "True"
            ]
          },
          "metadata": {},
          "execution_count": 46
        }
      ],
      "source": [
        "'orange' in basket                 # fast membership testing"
      ]
    },
    {
      "cell_type": "code",
      "execution_count": null,
      "metadata": {
        "id": "Xw-tsMhId8b-",
        "colab": {
          "base_uri": "https://localhost:8080/"
        },
        "outputId": "ea937680-5e33-486e-b912-fe1b1b2f0620"
      },
      "outputs": [
        {
          "output_type": "execute_result",
          "data": {
            "text/plain": [
              "False"
            ]
          },
          "metadata": {},
          "execution_count": 47
        }
      ],
      "source": [
        "'crabgrass' in basket"
      ]
    },
    {
      "cell_type": "markdown",
      "metadata": {
        "id": "4doxr3T3d8cB"
      },
      "source": [
        "Sets support the standard set operations such as union, intersection and set difference. Sets can also be built using **set comprehensions** which mirror the mathematical version of set comprehensions."
      ]
    },
    {
      "cell_type": "code",
      "execution_count": null,
      "metadata": {
        "id": "kTR0fonOd8cC",
        "colab": {
          "base_uri": "https://localhost:8080/"
        },
        "outputId": "44e473be-d829-48e3-94dc-78b05d06b433"
      },
      "outputs": [
        {
          "output_type": "execute_result",
          "data": {
            "text/plain": [
              "{'a', 'b', 'c', 'd', 'r'}"
            ]
          },
          "metadata": {},
          "execution_count": 48
        }
      ],
      "source": [
        "a = set('abracadabra')\n",
        "a"
      ]
    },
    {
      "cell_type": "code",
      "execution_count": null,
      "metadata": {
        "id": "a6X5dnIxd8cE",
        "colab": {
          "base_uri": "https://localhost:8080/"
        },
        "outputId": "896e4599-0e9d-435a-e745-568dabbd8b3b"
      },
      "outputs": [
        {
          "output_type": "execute_result",
          "data": {
            "text/plain": [
              "{'a', 'c', 'l', 'm', 'z'}"
            ]
          },
          "metadata": {},
          "execution_count": 49
        }
      ],
      "source": [
        "b = set('alacazam')\n",
        "b"
      ]
    },
    {
      "cell_type": "code",
      "execution_count": null,
      "metadata": {
        "id": "k3UZMqifd8cH",
        "colab": {
          "base_uri": "https://localhost:8080/"
        },
        "outputId": "61c15890-f742-46b2-ccf9-ee92d930a8d9"
      },
      "outputs": [
        {
          "output_type": "execute_result",
          "data": {
            "text/plain": [
              "{'a', 'b', 'c', 'd', 'l', 'm', 'r', 'z'}"
            ]
          },
          "metadata": {},
          "execution_count": 50
        }
      ],
      "source": [
        "a | b # union"
      ]
    },
    {
      "cell_type": "code",
      "execution_count": null,
      "metadata": {
        "id": "013TwnsRd8cK",
        "colab": {
          "base_uri": "https://localhost:8080/"
        },
        "outputId": "6e66fa36-bfa6-4086-8398-e3b3b1eea801"
      },
      "outputs": [
        {
          "output_type": "execute_result",
          "data": {
            "text/plain": [
              "{'a', 'c'}"
            ]
          },
          "metadata": {},
          "execution_count": 51
        }
      ],
      "source": [
        "a & b # intersection"
      ]
    },
    {
      "cell_type": "code",
      "execution_count": null,
      "metadata": {
        "id": "XcP7s9Gyd8cM",
        "colab": {
          "base_uri": "https://localhost:8080/"
        },
        "outputId": "caa8dfd3-5680-470a-ac34-48be3b22513c"
      },
      "outputs": [
        {
          "output_type": "execute_result",
          "data": {
            "text/plain": [
              "{'b', 'd', 'r'}"
            ]
          },
          "metadata": {},
          "execution_count": 52
        }
      ],
      "source": [
        "a - b # difference"
      ]
    },
    {
      "cell_type": "code",
      "execution_count": null,
      "metadata": {
        "id": "E5kIb1mkd8cO",
        "colab": {
          "base_uri": "https://localhost:8080/"
        },
        "outputId": "20e971b1-12e2-4106-b39b-1fc3f54b6e44"
      },
      "outputs": [
        {
          "output_type": "execute_result",
          "data": {
            "text/plain": [
              "{'d', 'r'}"
            ]
          },
          "metadata": {},
          "execution_count": 53
        }
      ],
      "source": [
        "{x for x in set('abracadabra') if x not in set('abc')} # set comprehension"
      ]
    },
    {
      "cell_type": "markdown",
      "metadata": {
        "id": "dOibFP0rd8cR"
      },
      "source": [
        "### Dictionaries\n",
        "\n",
        "A dictionary is an unordered set of `key:value` pairs, with the requirement that the keys are unique (within one dictionary).\n"
      ]
    },
    {
      "cell_type": "code",
      "execution_count": null,
      "metadata": {
        "id": "QM1iWZG_d8cR",
        "colab": {
          "base_uri": "https://localhost:8080/"
        },
        "outputId": "eb1f77dd-e2a1-4a15-a325-ee4ae2a653e3"
      },
      "outputs": [
        {
          "output_type": "execute_result",
          "data": {
            "text/plain": [
              "{'jack': 4098, 'sape': 4139}"
            ]
          },
          "metadata": {},
          "execution_count": 54
        }
      ],
      "source": [
        "tel = {'jack': 4098, 'sape': 4139}\n",
        "tel"
      ]
    },
    {
      "cell_type": "code",
      "execution_count": null,
      "metadata": {
        "id": "tbpWeRxUd8cT",
        "colab": {
          "base_uri": "https://localhost:8080/"
        },
        "outputId": "36babb9c-c3ee-4947-9af3-c80a2ed63c07"
      },
      "outputs": [
        {
          "output_type": "execute_result",
          "data": {
            "text/plain": [
              "4098"
            ]
          },
          "metadata": {},
          "execution_count": 55
        }
      ],
      "source": [
        "tel['jack'] # looking up a value using a key"
      ]
    },
    {
      "cell_type": "code",
      "execution_count": null,
      "metadata": {
        "id": "it1F8gjld8cX",
        "colab": {
          "base_uri": "https://localhost:8080/"
        },
        "outputId": "3ee175a0-5572-4c50-d9c3-bcde10f6989e"
      },
      "outputs": [
        {
          "output_type": "execute_result",
          "data": {
            "text/plain": [
              "{'guido': 4127, 'jack': 4098, 'sape': 4139}"
            ]
          },
          "metadata": {},
          "execution_count": 56
        }
      ],
      "source": [
        "tel['guido'] = 4127 # adding a new key:value pair\n",
        "tel"
      ]
    },
    {
      "cell_type": "code",
      "execution_count": null,
      "metadata": {
        "id": "wC946lbFd8cZ",
        "colab": {
          "base_uri": "https://localhost:8080/"
        },
        "outputId": "eda4cdac-f309-4fd0-8608-d1bf8eae5fd7"
      },
      "outputs": [
        {
          "output_type": "execute_result",
          "data": {
            "text/plain": [
              "{'guido': 4127, 'jack': 4098}"
            ]
          },
          "metadata": {},
          "execution_count": 57
        }
      ],
      "source": [
        "del tel['sape'] # removing a key:value pair\n",
        "tel"
      ]
    },
    {
      "cell_type": "code",
      "execution_count": null,
      "metadata": {
        "id": "KCJs8kgUd8cb",
        "colab": {
          "base_uri": "https://localhost:8080/"
        },
        "outputId": "eb4e8c0d-f614-4e57-f0b2-e8add62403ee"
      },
      "outputs": [
        {
          "output_type": "execute_result",
          "data": {
            "text/plain": [
              "['jack', 'guido']"
            ]
          },
          "metadata": {},
          "execution_count": 58
        }
      ],
      "source": [
        "list(tel.keys()) # we can just look at the keys in the dictionary"
      ]
    },
    {
      "cell_type": "code",
      "execution_count": null,
      "metadata": {
        "id": "2xKjWhJpd8cd",
        "colab": {
          "base_uri": "https://localhost:8080/"
        },
        "outputId": "2c2964cf-b30f-429b-98f9-9cdb302057ea"
      },
      "outputs": [
        {
          "output_type": "execute_result",
          "data": {
            "text/plain": [
              "[4098, 4127]"
            ]
          },
          "metadata": {},
          "execution_count": 59
        }
      ],
      "source": [
        "list(tel.values()) # we can just look at the values in the dictionary"
      ]
    },
    {
      "cell_type": "code",
      "execution_count": null,
      "metadata": {
        "id": "laP7RxYCMtr4"
      },
      "outputs": [],
      "source": []
    },
    {
      "cell_type": "code",
      "execution_count": null,
      "metadata": {
        "id": "tiiHEC-HMt1P"
      },
      "outputs": [],
      "source": [
        "import pandas as pd"
      ]
    },
    {
      "cell_type": "code",
      "execution_count": null,
      "metadata": {
        "colab": {
          "base_uri": "https://localhost:8080/"
        },
        "id": "YX0DhI_FMt32",
        "outputId": "0b637fca-41bc-4ce2-a7e5-9c457cb8b5bb"
      },
      "outputs": [
        {
          "output_type": "execute_result",
          "data": {
            "text/plain": [
              "[[1, 2, 3], [4, 5, 6], [7, 8, 9]]"
            ]
          },
          "metadata": {},
          "execution_count": 61
        }
      ],
      "source": [
        "arr= [[1,2,3], [4,5,6], [7,8,9]]\n",
        "arr"
      ]
    },
    {
      "cell_type": "code",
      "execution_count": null,
      "metadata": {
        "colab": {
          "base_uri": "https://localhost:8080/",
          "height": 143
        },
        "id": "h77l1zZTMt6m",
        "outputId": "aa2f50f1-9312-4538-df67-9a882769d689"
      },
      "outputs": [
        {
          "output_type": "execute_result",
          "data": {
            "text/plain": [
              "   a  b  c\n",
              "0  1  2  3\n",
              "1  4  5  6\n",
              "2  7  8  9"
            ],
            "text/html": [
              "\n",
              "  <div id=\"df-8248fa49-f52d-4607-aeac-8a8899c454b2\">\n",
              "    <div class=\"colab-df-container\">\n",
              "      <div>\n",
              "<style scoped>\n",
              "    .dataframe tbody tr th:only-of-type {\n",
              "        vertical-align: middle;\n",
              "    }\n",
              "\n",
              "    .dataframe tbody tr th {\n",
              "        vertical-align: top;\n",
              "    }\n",
              "\n",
              "    .dataframe thead th {\n",
              "        text-align: right;\n",
              "    }\n",
              "</style>\n",
              "<table border=\"1\" class=\"dataframe\">\n",
              "  <thead>\n",
              "    <tr style=\"text-align: right;\">\n",
              "      <th></th>\n",
              "      <th>a</th>\n",
              "      <th>b</th>\n",
              "      <th>c</th>\n",
              "    </tr>\n",
              "  </thead>\n",
              "  <tbody>\n",
              "    <tr>\n",
              "      <th>0</th>\n",
              "      <td>1</td>\n",
              "      <td>2</td>\n",
              "      <td>3</td>\n",
              "    </tr>\n",
              "    <tr>\n",
              "      <th>1</th>\n",
              "      <td>4</td>\n",
              "      <td>5</td>\n",
              "      <td>6</td>\n",
              "    </tr>\n",
              "    <tr>\n",
              "      <th>2</th>\n",
              "      <td>7</td>\n",
              "      <td>8</td>\n",
              "      <td>9</td>\n",
              "    </tr>\n",
              "  </tbody>\n",
              "</table>\n",
              "</div>\n",
              "      <button class=\"colab-df-convert\" onclick=\"convertToInteractive('df-8248fa49-f52d-4607-aeac-8a8899c454b2')\"\n",
              "              title=\"Convert this dataframe to an interactive table.\"\n",
              "              style=\"display:none;\">\n",
              "        \n",
              "  <svg xmlns=\"http://www.w3.org/2000/svg\" height=\"24px\"viewBox=\"0 0 24 24\"\n",
              "       width=\"24px\">\n",
              "    <path d=\"M0 0h24v24H0V0z\" fill=\"none\"/>\n",
              "    <path d=\"M18.56 5.44l.94 2.06.94-2.06 2.06-.94-2.06-.94-.94-2.06-.94 2.06-2.06.94zm-11 1L8.5 8.5l.94-2.06 2.06-.94-2.06-.94L8.5 2.5l-.94 2.06-2.06.94zm10 10l.94 2.06.94-2.06 2.06-.94-2.06-.94-.94-2.06-.94 2.06-2.06.94z\"/><path d=\"M17.41 7.96l-1.37-1.37c-.4-.4-.92-.59-1.43-.59-.52 0-1.04.2-1.43.59L10.3 9.45l-7.72 7.72c-.78.78-.78 2.05 0 2.83L4 21.41c.39.39.9.59 1.41.59.51 0 1.02-.2 1.41-.59l7.78-7.78 2.81-2.81c.8-.78.8-2.07 0-2.86zM5.41 20L4 18.59l7.72-7.72 1.47 1.35L5.41 20z\"/>\n",
              "  </svg>\n",
              "      </button>\n",
              "      \n",
              "  <style>\n",
              "    .colab-df-container {\n",
              "      display:flex;\n",
              "      flex-wrap:wrap;\n",
              "      gap: 12px;\n",
              "    }\n",
              "\n",
              "    .colab-df-convert {\n",
              "      background-color: #E8F0FE;\n",
              "      border: none;\n",
              "      border-radius: 50%;\n",
              "      cursor: pointer;\n",
              "      display: none;\n",
              "      fill: #1967D2;\n",
              "      height: 32px;\n",
              "      padding: 0 0 0 0;\n",
              "      width: 32px;\n",
              "    }\n",
              "\n",
              "    .colab-df-convert:hover {\n",
              "      background-color: #E2EBFA;\n",
              "      box-shadow: 0px 1px 2px rgba(60, 64, 67, 0.3), 0px 1px 3px 1px rgba(60, 64, 67, 0.15);\n",
              "      fill: #174EA6;\n",
              "    }\n",
              "\n",
              "    [theme=dark] .colab-df-convert {\n",
              "      background-color: #3B4455;\n",
              "      fill: #D2E3FC;\n",
              "    }\n",
              "\n",
              "    [theme=dark] .colab-df-convert:hover {\n",
              "      background-color: #434B5C;\n",
              "      box-shadow: 0px 1px 3px 1px rgba(0, 0, 0, 0.15);\n",
              "      filter: drop-shadow(0px 1px 2px rgba(0, 0, 0, 0.3));\n",
              "      fill: #FFFFFF;\n",
              "    }\n",
              "  </style>\n",
              "\n",
              "      <script>\n",
              "        const buttonEl =\n",
              "          document.querySelector('#df-8248fa49-f52d-4607-aeac-8a8899c454b2 button.colab-df-convert');\n",
              "        buttonEl.style.display =\n",
              "          google.colab.kernel.accessAllowed ? 'block' : 'none';\n",
              "\n",
              "        async function convertToInteractive(key) {\n",
              "          const element = document.querySelector('#df-8248fa49-f52d-4607-aeac-8a8899c454b2');\n",
              "          const dataTable =\n",
              "            await google.colab.kernel.invokeFunction('convertToInteractive',\n",
              "                                                     [key], {});\n",
              "          if (!dataTable) return;\n",
              "\n",
              "          const docLinkHtml = 'Like what you see? Visit the ' +\n",
              "            '<a target=\"_blank\" href=https://colab.research.google.com/notebooks/data_table.ipynb>data table notebook</a>'\n",
              "            + ' to learn more about interactive tables.';\n",
              "          element.innerHTML = '';\n",
              "          dataTable['output_type'] = 'display_data';\n",
              "          await google.colab.output.renderOutput(dataTable, element);\n",
              "          const docLink = document.createElement('div');\n",
              "          docLink.innerHTML = docLinkHtml;\n",
              "          element.appendChild(docLink);\n",
              "        }\n",
              "      </script>\n",
              "    </div>\n",
              "  </div>\n",
              "  "
            ]
          },
          "metadata": {},
          "execution_count": 62
        }
      ],
      "source": [
        "df= pd.DataFrame(data=arr,columns=['a', 'b','c'] )\n",
        "df"
      ]
    },
    {
      "cell_type": "code",
      "execution_count": null,
      "metadata": {
        "colab": {
          "base_uri": "https://localhost:8080/"
        },
        "id": "OHKgpxbGMt90",
        "outputId": "5e062474-324c-42cc-f6a6-d9e3689a3d2a"
      },
      "outputs": [
        {
          "output_type": "execute_result",
          "data": {
            "text/plain": [
              "5"
            ]
          },
          "metadata": {},
          "execution_count": 63
        }
      ],
      "source": [
        "df.iloc[1,1]"
      ]
    },
    {
      "cell_type": "code",
      "execution_count": null,
      "metadata": {
        "colab": {
          "base_uri": "https://localhost:8080/"
        },
        "id": "8zipDgr8OZts",
        "outputId": "a4a60136-db9a-4564-e7b3-fd394ce52a12"
      },
      "outputs": [
        {
          "output_type": "execute_result",
          "data": {
            "text/plain": [
              "3"
            ]
          },
          "metadata": {},
          "execution_count": 64
        }
      ],
      "source": [
        "df.iloc[0,2]"
      ]
    },
    {
      "cell_type": "code",
      "execution_count": null,
      "metadata": {
        "colab": {
          "base_uri": "https://localhost:8080/"
        },
        "id": "4L6yh6x4OfoB",
        "outputId": "4616a9f6-a9bd-43a2-e1e2-6ecf98393f1e"
      },
      "outputs": [
        {
          "output_type": "execute_result",
          "data": {
            "text/plain": [
              "0    2\n",
              "1    5\n",
              "2    8\n",
              "Name: b, dtype: int64"
            ]
          },
          "metadata": {},
          "execution_count": 65
        }
      ],
      "source": [
        "df['b']"
      ]
    },
    {
      "cell_type": "code",
      "execution_count": null,
      "metadata": {
        "colab": {
          "base_uri": "https://localhost:8080/"
        },
        "id": "iqv2kX_5Ofqw",
        "outputId": "28a11154-a57d-4287-a36e-699ba08719b1"
      },
      "outputs": [
        {
          "output_type": "execute_result",
          "data": {
            "text/plain": [
              "0    2\n",
              "1    5\n",
              "2    8\n",
              "Name: b, dtype: int64"
            ]
          },
          "metadata": {},
          "execution_count": 66
        }
      ],
      "source": [
        "df.iloc[ : , 1]"
      ]
    },
    {
      "cell_type": "code",
      "execution_count": null,
      "metadata": {
        "colab": {
          "base_uri": "https://localhost:8080/",
          "height": 143
        },
        "id": "V7ksu2SkOftM",
        "outputId": "c0393140-5737-4af3-f620-7fb4de7f8e11"
      },
      "outputs": [
        {
          "output_type": "execute_result",
          "data": {
            "text/plain": [
              "   a  b\n",
              "0  1  2\n",
              "1  4  5\n",
              "2  7  8"
            ],
            "text/html": [
              "\n",
              "  <div id=\"df-6979d705-4357-45ce-9d3f-921814474b1a\">\n",
              "    <div class=\"colab-df-container\">\n",
              "      <div>\n",
              "<style scoped>\n",
              "    .dataframe tbody tr th:only-of-type {\n",
              "        vertical-align: middle;\n",
              "    }\n",
              "\n",
              "    .dataframe tbody tr th {\n",
              "        vertical-align: top;\n",
              "    }\n",
              "\n",
              "    .dataframe thead th {\n",
              "        text-align: right;\n",
              "    }\n",
              "</style>\n",
              "<table border=\"1\" class=\"dataframe\">\n",
              "  <thead>\n",
              "    <tr style=\"text-align: right;\">\n",
              "      <th></th>\n",
              "      <th>a</th>\n",
              "      <th>b</th>\n",
              "    </tr>\n",
              "  </thead>\n",
              "  <tbody>\n",
              "    <tr>\n",
              "      <th>0</th>\n",
              "      <td>1</td>\n",
              "      <td>2</td>\n",
              "    </tr>\n",
              "    <tr>\n",
              "      <th>1</th>\n",
              "      <td>4</td>\n",
              "      <td>5</td>\n",
              "    </tr>\n",
              "    <tr>\n",
              "      <th>2</th>\n",
              "      <td>7</td>\n",
              "      <td>8</td>\n",
              "    </tr>\n",
              "  </tbody>\n",
              "</table>\n",
              "</div>\n",
              "      <button class=\"colab-df-convert\" onclick=\"convertToInteractive('df-6979d705-4357-45ce-9d3f-921814474b1a')\"\n",
              "              title=\"Convert this dataframe to an interactive table.\"\n",
              "              style=\"display:none;\">\n",
              "        \n",
              "  <svg xmlns=\"http://www.w3.org/2000/svg\" height=\"24px\"viewBox=\"0 0 24 24\"\n",
              "       width=\"24px\">\n",
              "    <path d=\"M0 0h24v24H0V0z\" fill=\"none\"/>\n",
              "    <path d=\"M18.56 5.44l.94 2.06.94-2.06 2.06-.94-2.06-.94-.94-2.06-.94 2.06-2.06.94zm-11 1L8.5 8.5l.94-2.06 2.06-.94-2.06-.94L8.5 2.5l-.94 2.06-2.06.94zm10 10l.94 2.06.94-2.06 2.06-.94-2.06-.94-.94-2.06-.94 2.06-2.06.94z\"/><path d=\"M17.41 7.96l-1.37-1.37c-.4-.4-.92-.59-1.43-.59-.52 0-1.04.2-1.43.59L10.3 9.45l-7.72 7.72c-.78.78-.78 2.05 0 2.83L4 21.41c.39.39.9.59 1.41.59.51 0 1.02-.2 1.41-.59l7.78-7.78 2.81-2.81c.8-.78.8-2.07 0-2.86zM5.41 20L4 18.59l7.72-7.72 1.47 1.35L5.41 20z\"/>\n",
              "  </svg>\n",
              "      </button>\n",
              "      \n",
              "  <style>\n",
              "    .colab-df-container {\n",
              "      display:flex;\n",
              "      flex-wrap:wrap;\n",
              "      gap: 12px;\n",
              "    }\n",
              "\n",
              "    .colab-df-convert {\n",
              "      background-color: #E8F0FE;\n",
              "      border: none;\n",
              "      border-radius: 50%;\n",
              "      cursor: pointer;\n",
              "      display: none;\n",
              "      fill: #1967D2;\n",
              "      height: 32px;\n",
              "      padding: 0 0 0 0;\n",
              "      width: 32px;\n",
              "    }\n",
              "\n",
              "    .colab-df-convert:hover {\n",
              "      background-color: #E2EBFA;\n",
              "      box-shadow: 0px 1px 2px rgba(60, 64, 67, 0.3), 0px 1px 3px 1px rgba(60, 64, 67, 0.15);\n",
              "      fill: #174EA6;\n",
              "    }\n",
              "\n",
              "    [theme=dark] .colab-df-convert {\n",
              "      background-color: #3B4455;\n",
              "      fill: #D2E3FC;\n",
              "    }\n",
              "\n",
              "    [theme=dark] .colab-df-convert:hover {\n",
              "      background-color: #434B5C;\n",
              "      box-shadow: 0px 1px 3px 1px rgba(0, 0, 0, 0.15);\n",
              "      filter: drop-shadow(0px 1px 2px rgba(0, 0, 0, 0.3));\n",
              "      fill: #FFFFFF;\n",
              "    }\n",
              "  </style>\n",
              "\n",
              "      <script>\n",
              "        const buttonEl =\n",
              "          document.querySelector('#df-6979d705-4357-45ce-9d3f-921814474b1a button.colab-df-convert');\n",
              "        buttonEl.style.display =\n",
              "          google.colab.kernel.accessAllowed ? 'block' : 'none';\n",
              "\n",
              "        async function convertToInteractive(key) {\n",
              "          const element = document.querySelector('#df-6979d705-4357-45ce-9d3f-921814474b1a');\n",
              "          const dataTable =\n",
              "            await google.colab.kernel.invokeFunction('convertToInteractive',\n",
              "                                                     [key], {});\n",
              "          if (!dataTable) return;\n",
              "\n",
              "          const docLinkHtml = 'Like what you see? Visit the ' +\n",
              "            '<a target=\"_blank\" href=https://colab.research.google.com/notebooks/data_table.ipynb>data table notebook</a>'\n",
              "            + ' to learn more about interactive tables.';\n",
              "          element.innerHTML = '';\n",
              "          dataTable['output_type'] = 'display_data';\n",
              "          await google.colab.output.renderOutput(dataTable, element);\n",
              "          const docLink = document.createElement('div');\n",
              "          docLink.innerHTML = docLinkHtml;\n",
              "          element.appendChild(docLink);\n",
              "        }\n",
              "      </script>\n",
              "    </div>\n",
              "  </div>\n",
              "  "
            ]
          },
          "metadata": {},
          "execution_count": 67
        }
      ],
      "source": [
        "df.iloc[:, 0:2]"
      ]
    },
    {
      "cell_type": "code",
      "execution_count": null,
      "metadata": {
        "colab": {
          "base_uri": "https://localhost:8080/",
          "height": 112
        },
        "id": "2UDf5TwkQG9E",
        "outputId": "6acdbac6-2733-44c2-d7e7-09a0eedbf905"
      },
      "outputs": [
        {
          "output_type": "execute_result",
          "data": {
            "text/plain": [
              "   a  b  c\n",
              "1  4  5  6\n",
              "2  7  8  9"
            ],
            "text/html": [
              "\n",
              "  <div id=\"df-dc02ee68-d125-4fbe-bd25-3c2cd7468a17\">\n",
              "    <div class=\"colab-df-container\">\n",
              "      <div>\n",
              "<style scoped>\n",
              "    .dataframe tbody tr th:only-of-type {\n",
              "        vertical-align: middle;\n",
              "    }\n",
              "\n",
              "    .dataframe tbody tr th {\n",
              "        vertical-align: top;\n",
              "    }\n",
              "\n",
              "    .dataframe thead th {\n",
              "        text-align: right;\n",
              "    }\n",
              "</style>\n",
              "<table border=\"1\" class=\"dataframe\">\n",
              "  <thead>\n",
              "    <tr style=\"text-align: right;\">\n",
              "      <th></th>\n",
              "      <th>a</th>\n",
              "      <th>b</th>\n",
              "      <th>c</th>\n",
              "    </tr>\n",
              "  </thead>\n",
              "  <tbody>\n",
              "    <tr>\n",
              "      <th>1</th>\n",
              "      <td>4</td>\n",
              "      <td>5</td>\n",
              "      <td>6</td>\n",
              "    </tr>\n",
              "    <tr>\n",
              "      <th>2</th>\n",
              "      <td>7</td>\n",
              "      <td>8</td>\n",
              "      <td>9</td>\n",
              "    </tr>\n",
              "  </tbody>\n",
              "</table>\n",
              "</div>\n",
              "      <button class=\"colab-df-convert\" onclick=\"convertToInteractive('df-dc02ee68-d125-4fbe-bd25-3c2cd7468a17')\"\n",
              "              title=\"Convert this dataframe to an interactive table.\"\n",
              "              style=\"display:none;\">\n",
              "        \n",
              "  <svg xmlns=\"http://www.w3.org/2000/svg\" height=\"24px\"viewBox=\"0 0 24 24\"\n",
              "       width=\"24px\">\n",
              "    <path d=\"M0 0h24v24H0V0z\" fill=\"none\"/>\n",
              "    <path d=\"M18.56 5.44l.94 2.06.94-2.06 2.06-.94-2.06-.94-.94-2.06-.94 2.06-2.06.94zm-11 1L8.5 8.5l.94-2.06 2.06-.94-2.06-.94L8.5 2.5l-.94 2.06-2.06.94zm10 10l.94 2.06.94-2.06 2.06-.94-2.06-.94-.94-2.06-.94 2.06-2.06.94z\"/><path d=\"M17.41 7.96l-1.37-1.37c-.4-.4-.92-.59-1.43-.59-.52 0-1.04.2-1.43.59L10.3 9.45l-7.72 7.72c-.78.78-.78 2.05 0 2.83L4 21.41c.39.39.9.59 1.41.59.51 0 1.02-.2 1.41-.59l7.78-7.78 2.81-2.81c.8-.78.8-2.07 0-2.86zM5.41 20L4 18.59l7.72-7.72 1.47 1.35L5.41 20z\"/>\n",
              "  </svg>\n",
              "      </button>\n",
              "      \n",
              "  <style>\n",
              "    .colab-df-container {\n",
              "      display:flex;\n",
              "      flex-wrap:wrap;\n",
              "      gap: 12px;\n",
              "    }\n",
              "\n",
              "    .colab-df-convert {\n",
              "      background-color: #E8F0FE;\n",
              "      border: none;\n",
              "      border-radius: 50%;\n",
              "      cursor: pointer;\n",
              "      display: none;\n",
              "      fill: #1967D2;\n",
              "      height: 32px;\n",
              "      padding: 0 0 0 0;\n",
              "      width: 32px;\n",
              "    }\n",
              "\n",
              "    .colab-df-convert:hover {\n",
              "      background-color: #E2EBFA;\n",
              "      box-shadow: 0px 1px 2px rgba(60, 64, 67, 0.3), 0px 1px 3px 1px rgba(60, 64, 67, 0.15);\n",
              "      fill: #174EA6;\n",
              "    }\n",
              "\n",
              "    [theme=dark] .colab-df-convert {\n",
              "      background-color: #3B4455;\n",
              "      fill: #D2E3FC;\n",
              "    }\n",
              "\n",
              "    [theme=dark] .colab-df-convert:hover {\n",
              "      background-color: #434B5C;\n",
              "      box-shadow: 0px 1px 3px 1px rgba(0, 0, 0, 0.15);\n",
              "      filter: drop-shadow(0px 1px 2px rgba(0, 0, 0, 0.3));\n",
              "      fill: #FFFFFF;\n",
              "    }\n",
              "  </style>\n",
              "\n",
              "      <script>\n",
              "        const buttonEl =\n",
              "          document.querySelector('#df-dc02ee68-d125-4fbe-bd25-3c2cd7468a17 button.colab-df-convert');\n",
              "        buttonEl.style.display =\n",
              "          google.colab.kernel.accessAllowed ? 'block' : 'none';\n",
              "\n",
              "        async function convertToInteractive(key) {\n",
              "          const element = document.querySelector('#df-dc02ee68-d125-4fbe-bd25-3c2cd7468a17');\n",
              "          const dataTable =\n",
              "            await google.colab.kernel.invokeFunction('convertToInteractive',\n",
              "                                                     [key], {});\n",
              "          if (!dataTable) return;\n",
              "\n",
              "          const docLinkHtml = 'Like what you see? Visit the ' +\n",
              "            '<a target=\"_blank\" href=https://colab.research.google.com/notebooks/data_table.ipynb>data table notebook</a>'\n",
              "            + ' to learn more about interactive tables.';\n",
              "          element.innerHTML = '';\n",
              "          dataTable['output_type'] = 'display_data';\n",
              "          await google.colab.output.renderOutput(dataTable, element);\n",
              "          const docLink = document.createElement('div');\n",
              "          docLink.innerHTML = docLinkHtml;\n",
              "          element.appendChild(docLink);\n",
              "        }\n",
              "      </script>\n",
              "    </div>\n",
              "  </div>\n",
              "  "
            ]
          },
          "metadata": {},
          "execution_count": 68
        }
      ],
      "source": [
        "df.iloc[1: , : ] #[rows, cols]"
      ]
    },
    {
      "cell_type": "code",
      "execution_count": null,
      "metadata": {
        "id": "mjfu8xkJQHKn"
      },
      "outputs": [],
      "source": []
    }
  ],
  "metadata": {
    "colab": {
      "provenance": [],
      "collapsed_sections": [
        "M0AAUw8Ed8aa"
      ],
      "include_colab_link": true
    },
    "kernelspec": {
      "display_name": "Python 3",
      "language": "python",
      "name": "python3"
    },
    "language_info": {
      "codemirror_mode": {
        "name": "ipython",
        "version": 3
      },
      "file_extension": ".py",
      "mimetype": "text/x-python",
      "name": "python",
      "nbconvert_exporter": "python",
      "pygments_lexer": "ipython3",
      "version": "3.7.6"
    }
  },
  "nbformat": 4,
  "nbformat_minor": 0
}